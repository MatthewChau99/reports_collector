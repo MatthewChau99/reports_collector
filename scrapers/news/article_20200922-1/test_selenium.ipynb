{
 "cells": [
  {
   "cell_type": "code",
   "execution_count": 1,
   "outputs": [],
   "source": [
    "from selenium import webdriver\n",
    "import requests\n",
    "from lxml import etree\n",
    "import time\n",
    "import re\n",
    "import os\n",
    "from selenium.webdriver.support.wait import WebDriverWait\n",
    "import config\n",
    "import public_fun"
   ],
   "metadata": {
    "collapsed": false,
    "pycharm": {
     "name": "#%%\n",
     "is_executing": false
    }
   }
  },
  {
   "cell_type": "code",
   "execution_count": 2,
   "outputs": [],
   "source": [
    "def get_url_list(driver):\n",
    "    key = True\n",
    "    count = 1\n",
    "    while key and count < int(p3/10):\n",
    "        driver.execute_script(\"window.scrollBy(0,3000)\")\n",
    "        try:\n",
    "            driver.find_element_by_xpath('//*[@id=\"no-more\"]')\n",
    "            key = False\n",
    "            count += 1\n",
    "        except:\n",
    "            key = True\n",
    "    labels = driver.find_elements_by_xpath('//*[@class=\"cards-content-title\"]/a')\n",
    "    labels2 = driver.find_elements_by_xpath('//*[@class=\"cards-content-right-comm\"]')\n",
    "    s_data = public_fun.reduce_date(reduction=p2)\n",
    "    href = [l.get_attribute('href') for l in labels]\n",
    "    dates = [l2.text.split()[-1] for l2 in labels2 if l2.text]\n",
    "    _list = [href[n] for n in range(len(href)) if public_fun.calc_date(s_date=s_data, e_date=dates[n])]\n",
    "    return url2_list\n",
    "\n",
    "def get_content(self, url):\n",
    "    self.driver.get(url)\n",
    "    time.sleep(1)\n",
    "    filename = re.findall('url=([^&]*)', string=url)[0].replace('..', '')[-10:] + '.html'  # 取后十个英文\n",
    "    html = [self.driver.execute_script(\"return document.documentElement.outerHTML\")]\n",
    "    text = ''.join(self.driver.find_element_by_xpath('//*[@id=\"img-content\"]').get_attribute('textContent').split())\n",
    "    if len(text) > max_text:\n",
    "        public_fun.write_down_html(path=self.path, filename=filename, text=html)\n",
    "    else:\n",
    "        print('文章字数不足', max_text)\n",
    "\n",
    "\n",
    "    # def main(self):\n",
    "    #     self.get_url_list()\n",
    "    #     [self.get_content(url=url) for url in self.result]"
   ],
   "metadata": {
    "collapsed": false,
    "pycharm": {
     "name": "#%%    \n",
     "is_executing": false
    }
   }
  },
  {
   "cell_type": "code",
   "execution_count": 3,
   "outputs": [],
   "source": [
    "result = []\n",
    "search_word = '人工智能'   # 搜索关键词\n",
    "p2 = '5'  # 最早时间\n",
    "p3 = 100  # 文章数\n",
    "max_text = 1000  # 文字数量"
   ],
   "metadata": {
    "collapsed": false,
    "pycharm": {
     "name": "#%%\n",
     "is_executing": false
    }
   }
  },
  {
   "cell_type": "code",
   "execution_count": 4,
   "outputs": [
    {
     "name": "stdout",
     "text": [
      "https://search.sohu.com/?keyword=人工智能\n"
     ],
     "output_type": "stream"
    },
    {
     "traceback": [
      "\u001b[1;31m---------------------------------------------------------------------------\u001b[0m",
      "\u001b[1;31mNameError\u001b[0m                                 Traceback (most recent call last)",
      "\u001b[1;32m<ipython-input-4-ab69505a2a28>\u001b[0m in \u001b[0;36m<module>\u001b[1;34m\u001b[0m\n\u001b[0;32m      5\u001b[0m \u001b[0mdriver\u001b[0m \u001b[1;33m=\u001b[0m \u001b[0mwebdriver\u001b[0m\u001b[1;33m.\u001b[0m\u001b[0mChrome\u001b[0m\u001b[1;33m(\u001b[0m\u001b[1;33m)\u001b[0m\u001b[1;33m\u001b[0m\u001b[1;33m\u001b[0m\u001b[0m\n\u001b[0;32m      6\u001b[0m \u001b[0mdriver\u001b[0m\u001b[1;33m.\u001b[0m\u001b[0mget\u001b[0m\u001b[1;33m(\u001b[0m\u001b[0murl\u001b[0m\u001b[1;33m=\u001b[0m\u001b[0murl\u001b[0m\u001b[1;33m)\u001b[0m\u001b[1;33m\u001b[0m\u001b[1;33m\u001b[0m\u001b[0m\n\u001b[1;32m----> 7\u001b[1;33m \u001b[0murl2_list\u001b[0m \u001b[1;33m=\u001b[0m \u001b[0mget_url_list\u001b[0m\u001b[1;33m(\u001b[0m\u001b[0mdriver\u001b[0m\u001b[1;33m=\u001b[0m\u001b[0mdriver\u001b[0m\u001b[1;33m)\u001b[0m\u001b[1;33m\u001b[0m\u001b[1;33m\u001b[0m\u001b[0m\n\u001b[0m\u001b[0;32m      8\u001b[0m \u001b[1;33m\u001b[0m\u001b[0m\n",
      "\u001b[1;32m<ipython-input-2-c6154078c3ed>\u001b[0m in \u001b[0;36mget_url_list\u001b[1;34m(driver)\u001b[0m\n\u001b[0;32m     16\u001b[0m     \u001b[0mdates\u001b[0m \u001b[1;33m=\u001b[0m \u001b[1;33m[\u001b[0m\u001b[0ml2\u001b[0m\u001b[1;33m.\u001b[0m\u001b[0mtext\u001b[0m\u001b[1;33m.\u001b[0m\u001b[0msplit\u001b[0m\u001b[1;33m(\u001b[0m\u001b[1;33m)\u001b[0m\u001b[1;33m[\u001b[0m\u001b[1;33m-\u001b[0m\u001b[1;36m1\u001b[0m\u001b[1;33m]\u001b[0m \u001b[1;32mfor\u001b[0m \u001b[0ml2\u001b[0m \u001b[1;32min\u001b[0m \u001b[0mlabels2\u001b[0m \u001b[1;32mif\u001b[0m \u001b[0ml2\u001b[0m\u001b[1;33m.\u001b[0m\u001b[0mtext\u001b[0m\u001b[1;33m]\u001b[0m\u001b[1;33m\u001b[0m\u001b[1;33m\u001b[0m\u001b[0m\n\u001b[0;32m     17\u001b[0m     \u001b[0m_list\u001b[0m \u001b[1;33m=\u001b[0m \u001b[1;33m[\u001b[0m\u001b[0mhref\u001b[0m\u001b[1;33m[\u001b[0m\u001b[0mn\u001b[0m\u001b[1;33m]\u001b[0m \u001b[1;32mfor\u001b[0m \u001b[0mn\u001b[0m \u001b[1;32min\u001b[0m \u001b[0mrange\u001b[0m\u001b[1;33m(\u001b[0m\u001b[0mlen\u001b[0m\u001b[1;33m(\u001b[0m\u001b[0mhref\u001b[0m\u001b[1;33m)\u001b[0m\u001b[1;33m)\u001b[0m \u001b[1;32mif\u001b[0m \u001b[0mpublic_fun\u001b[0m\u001b[1;33m.\u001b[0m\u001b[0mcalc_date\u001b[0m\u001b[1;33m(\u001b[0m\u001b[0ms_date\u001b[0m\u001b[1;33m=\u001b[0m\u001b[0ms_data\u001b[0m\u001b[1;33m,\u001b[0m \u001b[0me_date\u001b[0m\u001b[1;33m=\u001b[0m\u001b[0mdates\u001b[0m\u001b[1;33m[\u001b[0m\u001b[0mn\u001b[0m\u001b[1;33m]\u001b[0m\u001b[1;33m)\u001b[0m\u001b[1;33m]\u001b[0m\u001b[1;33m\u001b[0m\u001b[1;33m\u001b[0m\u001b[0m\n\u001b[1;32m---> 18\u001b[1;33m     \u001b[1;32mreturn\u001b[0m \u001b[0murl2_list\u001b[0m\u001b[1;33m\u001b[0m\u001b[1;33m\u001b[0m\u001b[0m\n\u001b[0m\u001b[0;32m     19\u001b[0m \u001b[1;33m\u001b[0m\u001b[0m\n\u001b[0;32m     20\u001b[0m \u001b[1;32mdef\u001b[0m \u001b[0mget_content\u001b[0m\u001b[1;33m(\u001b[0m\u001b[0mself\u001b[0m\u001b[1;33m,\u001b[0m \u001b[0murl\u001b[0m\u001b[1;33m)\u001b[0m\u001b[1;33m:\u001b[0m\u001b[1;33m\u001b[0m\u001b[1;33m\u001b[0m\u001b[0m\n",
      "\u001b[1;31mNameError\u001b[0m: name 'url2_list' is not defined"
     ],
     "ename": "NameError",
     "evalue": "name 'url2_list' is not defined",
     "output_type": "error"
    }
   ],
   "source": [
    "url = 'https://search.sohu.com/?keyword={}'.format(search_word)\n",
    "print(url)\n",
    "chrome_opt = webdriver.ChromeOptions()\n",
    "chrome_opt.add_argument('--headless')\n",
    "driver = webdriver.Chrome()\n",
    "driver.get(url=url)\n",
    "url2_list = get_url_list(driver=driver)"
   ],
   "metadata": {
    "collapsed": false,
    "pycharm": {
     "name": "#%%\n",
     "is_executing": false
    }
   }
  },
  {
   "cell_type": "code",
   "execution_count": null,
   "outputs": [],
   "source": [],
   "metadata": {
    "collapsed": false,
    "pycharm": {
     "name": "#%%\n",
     "is_executing": false
    }
   }
  }
 ],
 "metadata": {
  "language_info": {
   "codemirror_mode": {
    "name": "ipython",
    "version": 2
   },
   "file_extension": ".py",
   "mimetype": "text/x-python",
   "name": "python",
   "nbconvert_exporter": "python",
   "pygments_lexer": "ipython2",
   "version": "2.7.6"
  },
  "kernelspec": {
   "name": "python3",
   "language": "python",
   "display_name": "Python 3"
  },
  "pycharm": {
   "stem_cell": {
    "cell_type": "raw",
    "source": [],
    "metadata": {
     "collapsed": false
    }
   }
  }
 },
 "nbformat": 4,
 "nbformat_minor": 0
}