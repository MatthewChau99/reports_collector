{
 "cells": [
  {
   "cell_type": "code",
   "execution_count": 20,
   "outputs": [],
   "source": [
    "import os\n",
    "import requests\n",
    "from lxml import etree\n",
    "import pandas as pd\n",
    "import re\n",
    "import json\n",
    "from selenium import webdriver\n",
    "import time\n",
    "import datetime\n",
    "import config\n",
    "import public_fun"
   ],
   "metadata": {
    "collapsed": false,
    "pycharm": {
     "name": "#%%\n",
     "is_executing": false
    }
   }
  },
  {
   "cell_type": "code",
   "execution_count": 21,
   "outputs": [],
   "source": [
    "def handle(url, s_date):\n",
    "    res = requests.get(url=url, headers=config.HEADERS, verify=False)\n",
    "    if res.status_code != 404:\n",
    "        res.encoding = res.apparent_encoding\n",
    "        html = etree.HTML(res.text)\n",
    "    else:\n",
    "        print('url1 404错误:', res.status_code, url)\n",
    "        return [], ''\n",
    "    urls = html.xpath('//*[@class=\"box-result clearfix\"]/h2/a/@href')\n",
    "    labels = html.xpath('//*[@class=\"box-result clearfix\"]/h2/span/text()') # 获取时间\n",
    "    dates = [l.split(' ')[1] for l in labels]\n",
    "\n",
    "    index_next_page = 'https://search.sina.com.cn/{}'\n",
    "    next_href = index_next_page.format(html.xpath('//*[@title=\"下一页\"]/@href')[0])\n",
    "\n",
    "    if len(urls) != len(dates):\n",
    "        print('链接长度:', len(urls), '时间长度:', len(dates))\n",
    "        return False\n",
    "    else:\n",
    "        # index_url2 = 'http://www.51pdf.cn{}'\n",
    "        result = [urls[n] for n in range(len(urls)) if public_fun.calc_date(s_date=s_date, e_date=dates[n])]  # 通过时间过滤url2\n",
    "        return result, next_href\n",
    "\n",
    "def get_data(url, search_word, max_text):\n",
    "    json_result = {'source': 'xl', 'doc_id': '', 'date': '', 'download_url': '',\n",
    "                   'org_name': '', 'page_num': '1', 'doc_type': 'NEW', 'title': ''}\n",
    "    path = os.path.join(config.SAVE_PATH, search_word, 'news', 'xinlang')  # 路径\n",
    "    res = requests.get(url=url, headers=config.HEADERS)\n",
    "    res.encoding = res.apparent_encoding\n",
    "    html = etree.HTML(res.text)\n",
    "    content_text = public_fun.filter_space_json(html.xpath('//*[@id=\"artibody\"]//text()')) # 正文内容\n",
    "\n",
    "    if len(content_text) > max_text:\n",
    "        try:\n",
    "            # ==============================html=========================\n",
    "            # doc_id = re.findall('\\d+', string=url)[0]  # 文章ID\n",
    "            doc_id = url.split('/')[-1].split('.')[0] # 文章ID\n",
    "            title = html.xpath('//*[@class=\"main-title\"]')[0]    # 标题\n",
    "            description = html.xpath('//*[@id=\"artibody\"]')[0]   #文章内容 html\n",
    "            html_list = [title, description]\n",
    "            html_result = public_fun.filter_space_html(html_list)\n",
    "            # ==============================json=========================\n",
    "            json_result['doc_id'] = doc_id\n",
    "            try:\n",
    "                json_result['date'] = public_fun.filter_space_json(html.xpath('//*[@id=\"pub_date\"]/text()')[0].replace('-', ''))[:10]\\\n",
    "                    .replace('年', '').replace('月', '')\n",
    "            except:\n",
    "                json_result['date'] = public_fun.filter_space_json(html.xpath('//*[@class=\"date\"]/text()')[0].replace('-', ''))[:10]\\\n",
    "                    .replace('年', '').replace('月', '')\n",
    "            json_result['download_url'] = url\n",
    "            json_result['org_name'] = public_fun.filter_space_json(html.xpath('//*[@id=\"author_ename\"]/text()'))\n",
    "            json_result['title'] = public_fun.filter_space_json(html.xpath('//*[@id=\"artibodyTitle\"]/text()'))\n",
    "            public_fun.write_down_json(path=path, filename=doc_id + '.json', text=json_result)\n",
    "            public_fun.write_down_html(path=path, filename=doc_id + '.html', text=html_result)\n",
    "        except Exception as e:\n",
    "            print(e.__traceback__.tb_lineno, url, e)\n",
    "    else:\n",
    "        print('文章字数不足', max_text,url)\n",
    "        \n",
    "def main(search_word, max_art, max_text, s_date):\n",
    "    url1 = 'https://search.sina.com.cn/?country=usstock&q={}&c=news'.format(search_word)  # 文章url列表\n",
    "    url2_list = []  # 文章内容url\n",
    "    while url1:\n",
    "        one_page_url, next_page = handle(url=url1, s_date=s_date)\n",
    "        url2_list += one_page_url\n",
    "        if next_page and len(url2_list) < max_art:\n",
    "            # index_url = 'https://s.iresearch.cn/'   # url2域名\n",
    "            url1 = next_page\n",
    "        else:\n",
    "            url1 = ''\n",
    "    # return url2_list\n",
    "    url2_list = url2_list[:5] if config.DEBUG else url2_list   # 取十条测试数据\n",
    "    for url2 in url2_list:\n",
    "        get_data(url=url2, search_word=search_word, max_text=max_text)\n"
   ],
   "metadata": {
    "collapsed": false,
    "pycharm": {
     "name": "#%%\n",
     "is_executing": false
    }
   }
  },
  {
   "cell_type": "code",
   "execution_count": 22,
   "outputs": [
    {
     "name": "stderr",
     "text": [
      "c:\\python\\miniconda3\\lib\\site-packages\\urllib3\\connectionpool.py:847: InsecureRequestWarning: Unverified HTTPS request is being made. Adding certificate verification is strongly advised. See: https://urllib3.readthedocs.io/en/latest/advanced-usage.html#ssl-warnings\n  InsecureRequestWarning)\n",
      "c:\\python\\miniconda3\\lib\\site-packages\\urllib3\\connectionpool.py:847: InsecureRequestWarning: Unverified HTTPS request is being made. Adding certificate verification is strongly advised. See: https://urllib3.readthedocs.io/en/latest/advanced-usage.html#ssl-warnings\n  InsecureRequestWarning)\n"
     ],
     "output_type": "stream"
    },
    {
     "name": "stdout",
     "text": [
      "文章字数不足 500 https://k.sina.com.cn/article_5044281310_12ca99fde02001e4wt.html?from=cul\n"
     ],
     "output_type": "stream"
    }
   ],
   "source": [
    "p0 = '人工智能'\n",
    "p1 = 10\n",
    "p2 = 500\n",
    "p3 = '2018-01-01'\n",
    "r = main(search_word=p0, max_art=p1, max_text=p2, s_date=p3)\n"
   ],
   "metadata": {
    "collapsed": false,
    "pycharm": {
     "name": "#%%\n",
     "is_executing": false
    }
   }
  },
  {
   "cell_type": "code",
   "execution_count": 23,
   "outputs": [],
   "source": [
    "# 请求测试部分\n",
    "# test_url = 'http://tech.sina.com.cn/csj/2020-09-28/doc-iivhuipp6997654.shtml'\n",
    "# headers = {\n",
    "#     'User-Agent': 'Mozilla/5.0 (Windows NT 10.0; Win64; x64) AppleWebKit/537.36 (KHTML, like Gecko) Chrome/85.0.4183.83 Safari/537.36',\n",
    "# }\n",
    "# test_res = requests.get(url=test_url, headers=headers)\n",
    "# test_res.encoding = test_res.apparent_encoding\n",
    "# h = etree.HTML(test_res.text)\n",
    "# title = h.xpath('//*[@class=\"box-result clearfix\"]/h2/a/@href')\n",
    "# for n in title:\n",
    "#     print(n)\n",
    "# test_string = '喂式信息流造就'\n",
    "# print(test_string in test_res.text)\n",
    "# with open('test_check', 'w', encoding='utf-8') as f:\n",
    "#     f.write(test_res.text)"
   ],
   "metadata": {
    "collapsed": false,
    "pycharm": {
     "name": "#%%\n",
     "is_executing": false
    }
   }
  },
  {
   "cell_type": "code",
   "execution_count": 24,
   "outputs": [],
   "source": [
    "# 其他测试部分\n",
    "# a = 'https://www.ofweek.com/ai/2020-09/ART-201713-8470-30458368_2.html'\n",
    "# b = '/'.join(a.split('/')[:-2])\n",
    "# print(b)\n"
   ],
   "metadata": {
    "collapsed": false,
    "pycharm": {
     "name": "#%%\n",
     "is_executing": false
    }
   }
  }
 ],
 "metadata": {
  "language_info": {
   "codemirror_mode": {
    "name": "ipython",
    "version": 2
   },
   "file_extension": ".py",
   "mimetype": "text/x-python",
   "name": "python",
   "nbconvert_exporter": "python",
   "pygments_lexer": "ipython2",
   "version": "2.7.6"
  },
  "kernelspec": {
   "name": "python3",
   "language": "python",
   "display_name": "Python 3"
  },
  "pycharm": {
   "stem_cell": {
    "cell_type": "raw",
    "source": [],
    "metadata": {
     "collapsed": false
    }
   }
  }
 },
 "nbformat": 4,
 "nbformat_minor": 0
}